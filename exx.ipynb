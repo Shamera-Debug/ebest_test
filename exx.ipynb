{
 "cells": [
  {
   "cell_type": "code",
   "execution_count": 5,
   "metadata": {},
   "outputs": [],
   "source": [
    "import cx_Oracle\n",
    "import pandas as pd\n"
   ]
  },
  {
   "cell_type": "code",
   "execution_count": 6,
   "metadata": {},
   "outputs": [
    {
     "ename": "DatabaseError",
     "evalue": "ORA-12541: TNS:no listener",
     "output_type": "error",
     "traceback": [
      "\u001b[1;31m---------------------------------------------------------------------------\u001b[0m",
      "\u001b[1;31mDatabaseError\u001b[0m                             Traceback (most recent call last)",
      "Cell \u001b[1;32mIn[6], line 2\u001b[0m\n\u001b[0;32m      1\u001b[0m dsn \u001b[38;5;241m=\u001b[39m cx_Oracle\u001b[38;5;241m.\u001b[39mmakedsn(\u001b[38;5;124m'\u001b[39m\u001b[38;5;124mlocalhost\u001b[39m\u001b[38;5;124m'\u001b[39m,\u001b[38;5;241m1521\u001b[39m,\u001b[38;5;124m'\u001b[39m\u001b[38;5;124mxe\u001b[39m\u001b[38;5;124m'\u001b[39m)\n\u001b[1;32m----> 2\u001b[0m conn \u001b[38;5;241m=\u001b[39m \u001b[43mcx_Oracle\u001b[49m\u001b[38;5;241;43m.\u001b[39;49m\u001b[43mconnect\u001b[49m\u001b[43m(\u001b[49m\u001b[38;5;124;43m'\u001b[39;49m\u001b[38;5;124;43mORA_USER\u001b[39;49m\u001b[38;5;124;43m'\u001b[39;49m\u001b[43m,\u001b[49m\u001b[38;5;124;43m'\u001b[39;49m\u001b[38;5;124;43m1234\u001b[39;49m\u001b[38;5;124;43m'\u001b[39;49m\u001b[43m,\u001b[49m\u001b[43mdsn\u001b[49m\u001b[43m)\u001b[49m\n",
      "\u001b[1;31mDatabaseError\u001b[0m: ORA-12541: TNS:no listener"
     ]
    }
   ],
   "source": [
    "dsn = cx_Oracle.makedsn('localhost',1521,'xe')\n",
    "conn = cx_Oracle.connect('ORA_USER','1234',dsn)"
   ]
  },
  {
   "cell_type": "code",
   "execution_count": null,
   "metadata": {},
   "outputs": [
    {
     "name": "stdout",
     "output_type": "stream",
     "text": [
      "Oracle DB 연결 성공\n"
     ]
    }
   ],
   "source": [
    "# db연결확인 \n",
    "if conn:\n",
    "    print(\"Oracle DB 연결 성공\")\n",
    "else:\n",
    "    print(\"Oracle DB 연결 실패\")\n",
    "    exit(100)"
   ]
  },
  {
   "cell_type": "code",
   "execution_count": 14,
   "metadata": {},
   "outputs": [],
   "source": [
    "cur = conn.cursor()"
   ]
  },
  {
   "cell_type": "code",
   "execution_count": 39,
   "metadata": {},
   "outputs": [],
   "source": [
    "exx = pd.read_csv('./csv/T1101_005930_20240109.csv')\n",
    "exx= exx.iloc[:,1:]"
   ]
  },
  {
   "cell_type": "code",
   "execution_count": 40,
   "metadata": {},
   "outputs": [
    {
     "data": {
      "text/html": [
       "<div>\n",
       "<style scoped>\n",
       "    .dataframe tbody tr th:only-of-type {\n",
       "        vertical-align: middle;\n",
       "    }\n",
       "\n",
       "    .dataframe tbody tr th {\n",
       "        vertical-align: top;\n",
       "    }\n",
       "\n",
       "    .dataframe thead th {\n",
       "        text-align: right;\n",
       "    }\n",
       "</style>\n",
       "<table border=\"1\" class=\"dataframe\">\n",
       "  <thead>\n",
       "    <tr style=\"text-align: right;\">\n",
       "      <th></th>\n",
       "      <th>date</th>\n",
       "      <th>time</th>\n",
       "      <th>open</th>\n",
       "      <th>high</th>\n",
       "      <th>low</th>\n",
       "      <th>close</th>\n",
       "      <th>jdiff_vol</th>\n",
       "      <th>value</th>\n",
       "      <th>jongchk</th>\n",
       "      <th>rate</th>\n",
       "      <th>sign</th>\n",
       "    </tr>\n",
       "  </thead>\n",
       "  <tbody>\n",
       "    <tr>\n",
       "      <th>0</th>\n",
       "      <td>20231012</td>\n",
       "      <td>132300</td>\n",
       "      <td>10560</td>\n",
       "      <td>10570</td>\n",
       "      <td>10560</td>\n",
       "      <td>10560</td>\n",
       "      <td>1110</td>\n",
       "      <td>12</td>\n",
       "      <td>0</td>\n",
       "      <td>0.0</td>\n",
       "      <td>2</td>\n",
       "    </tr>\n",
       "    <tr>\n",
       "      <th>1</th>\n",
       "      <td>20231012</td>\n",
       "      <td>132400</td>\n",
       "      <td>10560</td>\n",
       "      <td>10570</td>\n",
       "      <td>10560</td>\n",
       "      <td>10560</td>\n",
       "      <td>999</td>\n",
       "      <td>11</td>\n",
       "      <td>0</td>\n",
       "      <td>0.0</td>\n",
       "      <td>2</td>\n",
       "    </tr>\n",
       "    <tr>\n",
       "      <th>2</th>\n",
       "      <td>20231012</td>\n",
       "      <td>132500</td>\n",
       "      <td>10560</td>\n",
       "      <td>10570</td>\n",
       "      <td>10560</td>\n",
       "      <td>10560</td>\n",
       "      <td>547</td>\n",
       "      <td>6</td>\n",
       "      <td>0</td>\n",
       "      <td>0.0</td>\n",
       "      <td>2</td>\n",
       "    </tr>\n",
       "    <tr>\n",
       "      <th>3</th>\n",
       "      <td>20231012</td>\n",
       "      <td>132600</td>\n",
       "      <td>10560</td>\n",
       "      <td>10580</td>\n",
       "      <td>10560</td>\n",
       "      <td>10580</td>\n",
       "      <td>4414</td>\n",
       "      <td>47</td>\n",
       "      <td>0</td>\n",
       "      <td>0.0</td>\n",
       "      <td>2</td>\n",
       "    </tr>\n",
       "    <tr>\n",
       "      <th>4</th>\n",
       "      <td>20231012</td>\n",
       "      <td>132700</td>\n",
       "      <td>10570</td>\n",
       "      <td>10580</td>\n",
       "      <td>10570</td>\n",
       "      <td>10570</td>\n",
       "      <td>278</td>\n",
       "      <td>3</td>\n",
       "      <td>0</td>\n",
       "      <td>0.0</td>\n",
       "      <td>2</td>\n",
       "    </tr>\n",
       "    <tr>\n",
       "      <th>...</th>\n",
       "      <td>...</td>\n",
       "      <td>...</td>\n",
       "      <td>...</td>\n",
       "      <td>...</td>\n",
       "      <td>...</td>\n",
       "      <td>...</td>\n",
       "      <td>...</td>\n",
       "      <td>...</td>\n",
       "      <td>...</td>\n",
       "      <td>...</td>\n",
       "      <td>...</td>\n",
       "    </tr>\n",
       "    <tr>\n",
       "      <th>495</th>\n",
       "      <td>20231013</td>\n",
       "      <td>151700</td>\n",
       "      <td>10530</td>\n",
       "      <td>10540</td>\n",
       "      <td>10530</td>\n",
       "      <td>10530</td>\n",
       "      <td>1744</td>\n",
       "      <td>18</td>\n",
       "      <td>0</td>\n",
       "      <td>0.0</td>\n",
       "      <td>5</td>\n",
       "    </tr>\n",
       "    <tr>\n",
       "      <th>496</th>\n",
       "      <td>20231013</td>\n",
       "      <td>151800</td>\n",
       "      <td>10530</td>\n",
       "      <td>10550</td>\n",
       "      <td>10530</td>\n",
       "      <td>10550</td>\n",
       "      <td>2018</td>\n",
       "      <td>21</td>\n",
       "      <td>0</td>\n",
       "      <td>0.0</td>\n",
       "      <td>5</td>\n",
       "    </tr>\n",
       "    <tr>\n",
       "      <th>497</th>\n",
       "      <td>20231013</td>\n",
       "      <td>151900</td>\n",
       "      <td>10540</td>\n",
       "      <td>10550</td>\n",
       "      <td>10540</td>\n",
       "      <td>10550</td>\n",
       "      <td>870</td>\n",
       "      <td>9</td>\n",
       "      <td>0</td>\n",
       "      <td>0.0</td>\n",
       "      <td>5</td>\n",
       "    </tr>\n",
       "    <tr>\n",
       "      <th>498</th>\n",
       "      <td>20231013</td>\n",
       "      <td>152000</td>\n",
       "      <td>10550</td>\n",
       "      <td>10590</td>\n",
       "      <td>10540</td>\n",
       "      <td>10540</td>\n",
       "      <td>8191</td>\n",
       "      <td>87</td>\n",
       "      <td>0</td>\n",
       "      <td>0.0</td>\n",
       "      <td>5</td>\n",
       "    </tr>\n",
       "    <tr>\n",
       "      <th>499</th>\n",
       "      <td>20231013</td>\n",
       "      <td>153000</td>\n",
       "      <td>10550</td>\n",
       "      <td>10550</td>\n",
       "      <td>10550</td>\n",
       "      <td>10550</td>\n",
       "      <td>41854</td>\n",
       "      <td>442</td>\n",
       "      <td>0</td>\n",
       "      <td>0.0</td>\n",
       "      <td>5</td>\n",
       "    </tr>\n",
       "  </tbody>\n",
       "</table>\n",
       "<p>500 rows × 11 columns</p>\n",
       "</div>"
      ],
      "text/plain": [
       "         date    time   open   high    low  close  jdiff_vol  value  jongchk  \\\n",
       "0    20231012  132300  10560  10570  10560  10560       1110     12        0   \n",
       "1    20231012  132400  10560  10570  10560  10560        999     11        0   \n",
       "2    20231012  132500  10560  10570  10560  10560        547      6        0   \n",
       "3    20231012  132600  10560  10580  10560  10580       4414     47        0   \n",
       "4    20231012  132700  10570  10580  10570  10570        278      3        0   \n",
       "..        ...     ...    ...    ...    ...    ...        ...    ...      ...   \n",
       "495  20231013  151700  10530  10540  10530  10530       1744     18        0   \n",
       "496  20231013  151800  10530  10550  10530  10550       2018     21        0   \n",
       "497  20231013  151900  10540  10550  10540  10550        870      9        0   \n",
       "498  20231013  152000  10550  10590  10540  10540       8191     87        0   \n",
       "499  20231013  153000  10550  10550  10550  10550      41854    442        0   \n",
       "\n",
       "     rate  sign  \n",
       "0     0.0     2  \n",
       "1     0.0     2  \n",
       "2     0.0     2  \n",
       "3     0.0     2  \n",
       "4     0.0     2  \n",
       "..    ...   ...  \n",
       "495   0.0     5  \n",
       "496   0.0     5  \n",
       "497   0.0     5  \n",
       "498   0.0     5  \n",
       "499   0.0     5  \n",
       "\n",
       "[500 rows x 11 columns]"
      ]
     },
     "execution_count": 40,
     "metadata": {},
     "output_type": "execute_result"
    }
   ],
   "source": [
    "exx"
   ]
  },
  {
   "cell_type": "code",
   "execution_count": 46,
   "metadata": {},
   "outputs": [],
   "source": [
    "df_list = exx.values.tolist()\n",
    "cur.executemany(\"INSERT INTO exxx VALUES (:1,:2,:3,:4,:5,:6,:7,:8,:9,:10,:11)\",\n",
    "            df_list, batcherrors = True)"
   ]
  },
  {
   "cell_type": "code",
   "execution_count": 49,
   "metadata": {},
   "outputs": [
    {
     "data": {
      "text/plain": [
       "(1000,)"
      ]
     },
     "execution_count": 49,
     "metadata": {},
     "output_type": "execute_result"
    }
   ],
   "source": [
    "cur.execute(\"commit\")\n",
    "\n",
    "# 들어간 갯수 확인\n",
    "cur.execute('select count(*) from exxx ')\n",
    "cur.fetchone()\n"
   ]
  },
  {
   "cell_type": "code",
   "execution_count": 44,
   "metadata": {},
   "outputs": [],
   "source": [
    "cur.execute(\"commit\")"
   ]
  }
 ],
 "metadata": {
  "kernelspec": {
   "display_name": "ml-dev",
   "language": "python",
   "name": "python3"
  },
  "language_info": {
   "codemirror_mode": {
    "name": "ipython",
    "version": 3
   },
   "file_extension": ".py",
   "mimetype": "text/x-python",
   "name": "python",
   "nbconvert_exporter": "python",
   "pygments_lexer": "ipython3",
   "version": "3.10.13"
  }
 },
 "nbformat": 4,
 "nbformat_minor": 2
}

{
 "cells": [
  {
   "cell_type": "code",
   "execution_count": 11,
   "metadata": {},
   "outputs": [],
   "source": [
    "# 빈 클래스 선언\n",
    "class Service: # 인터넷 서비스 제공업체다 가정\n",
    "    # 클래스의 변수 | 자바 : static 으로 선언된 변수 => 공유가 목적\n",
    "    secret = '영구는 외계인이다' "
   ]
  },
  {
   "cell_type": "code",
   "execution_count": 12,
   "metadata": {},
   "outputs": [],
   "source": [
    "# 클래스의 소유 => 클래스변수\n",
    "Service.secret = '영구는 도깨비다'"
   ]
  },
  {
   "cell_type": "code",
   "execution_count": 13,
   "metadata": {},
   "outputs": [
    {
     "name": "stdout",
     "output_type": "stream",
     "text": [
      "영구는 도깨비다\n",
      "영구는 도깨비다\n"
     ]
    }
   ],
   "source": [
    "pey = Service()\n",
    "kim = Service()\n",
    "print(pey.secret) # 공유\n",
    "print(kim.secret) # 공유"
   ]
  },
  {
   "cell_type": "code",
   "execution_count": 24,
   "metadata": {},
   "outputs": [],
   "source": [
    "# 클래스 내부의 함수(메소드)\n",
    "class Service:\n",
    "    secret = '영구는 외계인이다' # static variable, 클래스 변수\n",
    "    def func(): # static method, 클래스 메소드\n",
    "        print('func')\n",
    "        \n",
    "    def sum(self,a,b): # 멤버 메소드 선언, a, b\n",
    "        result = a + b + 3 # 지역변수\n",
    "        self.result = a+ b # 멤버변수 \n",
    "        print(f'{a} + {b} = {self.result}입니다.')"
   ]
  },
  {
   "cell_type": "code",
   "execution_count": 26,
   "metadata": {},
   "outputs": [
    {
     "name": "stdout",
     "output_type": "stream",
     "text": [
      "1 + 1 = 2입니다.\n",
      "1 + 1 = 2입니다.\n"
     ]
    }
   ],
   "source": [
    "pey = Service()\n",
    "pey.sum(1,1)\n",
    "kim = Service()\n",
    "kim.sum(1,1)"
   ]
  },
  {
   "cell_type": "code",
   "execution_count": 27,
   "metadata": {},
   "outputs": [
    {
     "name": "stdout",
     "output_type": "stream",
     "text": [
      "1 + 1 = 2입니다.\n",
      "1 + 1 = 2입니다.\n"
     ]
    }
   ],
   "source": [
    "obj_list = [pey, kim]\n",
    "for obj in obj_list:\n",
    "    Service.sum(obj,1,1)"
   ]
  },
  {
   "cell_type": "code",
   "execution_count": 31,
   "metadata": {},
   "outputs": [],
   "source": [
    "class Marin:\n",
    "    def __init__(self, name):\n",
    "        self.name = name\n",
    "        self.attackName = '총'\n",
    "    \n",
    "    def attack(self):\n",
    "        print(f'{self.name}이 {self.attackName} 공격') "
   ]
  },
  {
   "cell_type": "code",
   "execution_count": 33,
   "metadata": {},
   "outputs": [
    {
     "name": "stdout",
     "output_type": "stream",
     "text": [
      "마린1이 총 공격\n",
      "마린2이 총 공격\n",
      "마린3이 총 공격\n",
      "마린4이 총 공격\n"
     ]
    }
   ],
   "source": [
    "m1 = Marin('마린1')\n",
    "m1.attack()\n",
    "m2 = Marin('마린2')\n",
    "m2.attack()\n",
    "m3 = Marin('마린3')\n",
    "m3.attack()\n",
    "m4 = Marin('마린4')\n",
    "m4.attack()"
   ]
  },
  {
   "cell_type": "code",
   "execution_count": 34,
   "metadata": {},
   "outputs": [
    {
     "name": "stdout",
     "output_type": "stream",
     "text": [
      "마린1이 총 공격\n",
      "마린2이 총 공격\n",
      "마린3이 총 공격\n",
      "마린4이 총 공격\n"
     ]
    }
   ],
   "source": [
    "marins = [m1,m2,m3,m4]\n",
    "for marin in marins:\n",
    "    Marin.attack(marin)"
   ]
  }
 ],
 "metadata": {
  "kernelspec": {
   "display_name": "test",
   "language": "python",
   "name": "python3"
  },
  "language_info": {
   "codemirror_mode": {
    "name": "ipython",
    "version": 3
   },
   "file_extension": ".py",
   "mimetype": "text/x-python",
   "name": "python",
   "nbconvert_exporter": "python",
   "pygments_lexer": "ipython3",
   "version": "3.9.18"
  }
 },
 "nbformat": 4,
 "nbformat_minor": 2
}

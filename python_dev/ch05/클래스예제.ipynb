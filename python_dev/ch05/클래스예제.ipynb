{
 "cells": [
  {
   "cell_type": "code",
   "execution_count": 11,
   "metadata": {},
   "outputs": [],
   "source": [
    "# 빈 클래스 선언\n",
    "class Service: # 인터넷 서비스 제공업체다 가정\n",
    "    # 클래스의 변수 | 자바 : static 으로 선언된 변수 => 공유가 목적\n",
    "    secret = '영구는 외계인이다' "
   ]
  },
  {
   "cell_type": "code",
   "execution_count": 12,
   "metadata": {},
   "outputs": [],
   "source": [
    "# 클래스의 소유 => 클래스변수\n",
    "Service.secret = '영구는 도깨비다'"
   ]
  },
  {
   "cell_type": "code",
   "execution_count": 13,
   "metadata": {},
   "outputs": [
    {
     "name": "stdout",
     "output_type": "stream",
     "text": [
      "영구는 도깨비다\n",
      "영구는 도깨비다\n"
     ]
    }
   ],
   "source": [
    "pey = Service()\n",
    "kim = Service()\n",
    "print(pey.secret) # 공유\n",
    "print(kim.secret) # 공유"
   ]
  },
  {
   "cell_type": "code",
   "execution_count": 24,
   "metadata": {},
   "outputs": [],
   "source": [
    "# 클래스 내부의 함수(메소드)\n",
    "class Service:\n",
    "    secret = '영구는 외계인이다' # static variable, 클래스 변수\n",
    "    def func(): # static method, 클래스 메소드\n",
    "        print('func')\n",
    "        \n",
    "    def sum(self,a,b): # 멤버 메소드 선언, a, b\n",
    "        result = a + b + 3 # 지역변수\n",
    "        self.result = a+ b # 멤버변수 \n",
    "        print(f'{a} + {b} = {self.result}입니다.')"
   ]
  },
  {
   "cell_type": "code",
   "execution_count": 26,
   "metadata": {},
   "outputs": [
    {
     "name": "stdout",
     "output_type": "stream",
     "text": [
      "1 + 1 = 2입니다.\n",
      "1 + 1 = 2입니다.\n"
     ]
    }
   ],
   "source": [
    "pey = Service()\n",
    "pey.sum(1,1)\n",
    "kim = Service()\n",
    "kim.sum(1,1)"
   ]
  },
  {
   "cell_type": "code",
   "execution_count": 27,
   "metadata": {},
   "outputs": [
    {
     "name": "stdout",
     "output_type": "stream",
     "text": [
      "1 + 1 = 2입니다.\n",
      "1 + 1 = 2입니다.\n"
     ]
    }
   ],
   "source": [
    "obj_list = [pey, kim]\n",
    "for obj in obj_list:\n",
    "    Service.sum(obj,1,1)"
   ]
  },
  {
   "cell_type": "code",
   "execution_count": 31,
   "metadata": {},
   "outputs": [],
   "source": [
    "class Marin:\n",
    "    def __init__(self, name):\n",
    "        self.name = name\n",
    "        self.attackName = '총'\n",
    "    \n",
    "    def attack(self):\n",
    "        print(f'{self.name}이 {self.attackName} 공격') "
   ]
  },
  {
   "cell_type": "code",
   "execution_count": 33,
   "metadata": {},
   "outputs": [
    {
     "name": "stdout",
     "output_type": "stream",
     "text": [
      "마린1이 총 공격\n",
      "마린2이 총 공격\n",
      "마린3이 총 공격\n",
      "마린4이 총 공격\n"
     ]
    }
   ],
   "source": [
    "m1 = Marin('마린1')\n",
    "m1.attack()\n",
    "m2 = Marin('마린2')\n",
    "m2.attack()\n",
    "m3 = Marin('마린3')\n",
    "m3.attack()\n",
    "m4 = Marin('마린4')\n",
    "m4.attack()"
   ]
  },
  {
   "cell_type": "code",
   "execution_count": 34,
   "metadata": {},
   "outputs": [
    {
     "name": "stdout",
     "output_type": "stream",
     "text": [
      "마린1이 총 공격\n",
      "마린2이 총 공격\n",
      "마린3이 총 공격\n",
      "마린4이 총 공격\n"
     ]
    }
   ],
   "source": [
    "marins = [m1,m2,m3,m4]\n",
    "for marin in marins:\n",
    "    Marin.attack(marin)"
   ]
  },
  {
   "cell_type": "code",
   "execution_count": 4,
   "metadata": {},
   "outputs": [],
   "source": [
    "class Service: # 인터넷 서비스 업체 \n",
    "    # 클래스 변수 선언 : 모든 object가 공유 목적\n",
    "    secret = '영구는 외계인이다'\n",
    "    # 메소드 선언 : self가 있는 메소드 => object 접근 가능한 메소드\n",
    "    def setName(self, name): # name 받아서 초기화\n",
    "        # self.name object 안에 name 공간 생성\n",
    "        self.name = name # name 초기화\n",
    "    \n",
    "    def sum(self, a:int, b:int): # 제공되는 서비스\n",
    "        result = a + b\n",
    "        print(f'{self.name}님 {a} + {b} = {result} 입니다.')\n",
    "        \n",
    "    "
   ]
  },
  {
   "cell_type": "code",
   "execution_count": 7,
   "metadata": {},
   "outputs": [
    {
     "name": "stdout",
     "output_type": "stream",
     "text": [
      "홍길동님 1 + 1 = 2 입니다.\n",
      "김길동님 1 + 1 = 2 입니다.\n"
     ]
    }
   ],
   "source": [
    "kim = Service() # kim 의 object 생성\n",
    "park = Service() # park의 object 생성\n",
    "\n",
    "kim.setName('홍길동')\n",
    "kim.sum(1,1)\n",
    "kim.name = '김길동'\n",
    "kim.sum(1,1)"
   ]
  },
  {
   "cell_type": "code",
   "execution_count": 8,
   "metadata": {},
   "outputs": [],
   "source": [
    "class Service:\n",
    "    pass"
   ]
  },
  {
   "cell_type": "code",
   "execution_count": 9,
   "metadata": {},
   "outputs": [
    {
     "name": "stdout",
     "output_type": "stream",
     "text": [
      "김철수\n",
      "박응용\n"
     ]
    }
   ],
   "source": [
    "kim = Service()\n",
    "park = Service()\n",
    "kim.name = '김철수'\n",
    "park.name = '박응용'\n",
    "print(kim.name)\n",
    "print(park.name)"
   ]
  },
  {
   "cell_type": "code",
   "execution_count": 15,
   "metadata": {},
   "outputs": [],
   "source": [
    "class Service: # 인터넷 서비스 업체 \n",
    "    # 클래스 변수 선언 : 모든 object가 공유 목적\n",
    "    secret = '영구는 외계인이다'\n",
    "    \n",
    "    # 생성자 처리 => Service('홍길동'), object 생성시 값을 부여하고 싶을때 사용\n",
    "    def __init__(self,name) -> None:\n",
    "        self.name = name\n",
    "    \n",
    "    # 메소드 선언 : self가 있는 메소드 => object 접근 가능한 메소드\n",
    "    def setName(self, name): # name 받아서 초기화\n",
    "        # self.name object 안에 name 공간 생성\n",
    "        self.name = name # name 초기화\n",
    "    \n",
    "    def sum(self, a:int, b:int): # 제공되는 서비스\n",
    "        result = a + b\n",
    "        print(f'{self.name}님 {a} + {b} = {result} 입니다.')"
   ]
  },
  {
   "cell_type": "code",
   "execution_count": 18,
   "metadata": {},
   "outputs": [
    {
     "name": "stdout",
     "output_type": "stream",
     "text": [
      "홍길동님 1 + 1 = 2 입니다.\n",
      "babo님 1 + 1 = 2 입니다.\n"
     ]
    }
   ],
   "source": [
    "# object 생성할 때 name 생성후 초기화 했으면 에러가 발생되지 않을 것이다\n",
    "babo = Service('홍길동') \n",
    "babo.sum(1,1) \n",
    "babo.setName('babo') # 추가\n",
    "babo.sum(1,1)"
   ]
  },
  {
   "cell_type": "code",
   "execution_count": 19,
   "metadata": {},
   "outputs": [],
   "source": [
    "class FourCal:\n",
    "    def setData(self,first, second):\n",
    "        self.first = first\n",
    "        self.second = second\n",
    "    def sum(self):\n",
    "        return self.first + self.second\n",
    "    def sub(self): # 빼기\n",
    "        return self.first - self.second"
   ]
  },
  {
   "cell_type": "code",
   "execution_count": 22,
   "metadata": {},
   "outputs": [
    {
     "data": {
      "text/plain": [
       "(6, 2)"
      ]
     },
     "execution_count": 22,
     "metadata": {},
     "output_type": "execute_result"
    }
   ],
   "source": [
    "kim = FourCal()\n",
    "kim.setData(4,2)\n",
    "kim.sum(),kim.sub()"
   ]
  },
  {
   "cell_type": "code",
   "execution_count": 24,
   "metadata": {},
   "outputs": [
    {
     "data": {
      "text/plain": [
       "6"
      ]
     },
     "execution_count": 24,
     "metadata": {},
     "output_type": "execute_result"
    }
   ],
   "source": [
    "kim = FourCal()\n",
    "FourCal.setData(kim,4,2)\n",
    "FourCal.sum(kim)"
   ]
  },
  {
   "cell_type": "code",
   "execution_count": 54,
   "metadata": {},
   "outputs": [],
   "source": [
    "#### 박씨네 집 클래스 만들기\n",
    "class HousePark:\n",
    "    lastName = '박' # 모두 박씨가 되었다\n",
    "    def __init__(self, name) -> None:\n",
    "        self.fullName = self.lastName + name\n",
    "    # def setName(self, name):\n",
    "    #     self.fullName = HousePark.lastName + name\n",
    "    def travel(self, where):\n",
    "        print(f'{self.fullName}이 {where}로 여행을 가다')\n",
    "    \n",
    "    def __add__(self, other):\n",
    "        print(f'{self.fullName}, {other.fullName} 결혼했네')"
   ]
  },
  {
   "cell_type": "code",
   "execution_count": 49,
   "metadata": {},
   "outputs": [
    {
     "name": "stdout",
     "output_type": "stream",
     "text": [
      "박응용이 부산로 여행을 가다\n"
     ]
    }
   ],
   "source": [
    "pey = HousePark('응용') # lastName = '박'\n",
    "# pey.setName('응용') \n",
    "pey.travel(where='부산')"
   ]
  },
  {
   "cell_type": "code",
   "execution_count": 58,
   "metadata": {},
   "outputs": [],
   "source": [
    "class HouseKim(HousePark):\n",
    "    lastName = '김'\n",
    "    # 재정의 : overriding\n",
    "    def travel(self, where):\n",
    "        print(f'{self.fullName}은 {where}로 여행을 갔다')\n",
    "        \n",
    "    def __add__(self, other):\n",
    "        print(f'{self.fullName}, {other.fullName} 결혼했네')"
   ]
  },
  {
   "cell_type": "code",
   "execution_count": 53,
   "metadata": {},
   "outputs": [
    {
     "name": "stdout",
     "output_type": "stream",
     "text": [
      "김줄리엣은 독도로 여행을 갔다\n"
     ]
    }
   ],
   "source": [
    "pey = HouseKim('줄리엣')\n",
    "pey.travel('독도') # 김줄리엣이 독도로 여행을 가다\n"
   ]
  },
  {
   "cell_type": "code",
   "execution_count": 60,
   "metadata": {},
   "outputs": [
    {
     "name": "stdout",
     "output_type": "stream",
     "text": [
      "박응용, 김줄리엣 결혼했네\n"
     ]
    }
   ],
   "source": [
    "# 오버로딩 : 메소드명을 동일하고, 파라미터가 상이한 메소드 정의\n",
    "# 연산 오버로딩\n",
    "pey = HousePark('응용')\n",
    "juliet = HouseKim('줄리엣')\n",
    "pey + juliet"
   ]
  },
  {
   "cell_type": "code",
   "execution_count": 67,
   "metadata": {},
   "outputs": [
    {
     "name": "stdout",
     "output_type": "stream",
     "text": [
      "김줄리엣, 박응용 결혼했네\n",
      "None\n",
      "박응용, 김줄리엣 헤어졌네\n",
      "None\n"
     ]
    }
   ],
   "source": [
    "class HousePark:\n",
    "    lastName = '박' # 모두 박씨가 되었다\n",
    "    def __init__(self, name) -> None:\n",
    "        self.fullName = self.lastName + name\n",
    "    # def setName(self, name):\n",
    "    #     self.fullName = HousePark.lastName + name\n",
    "    def travel(self, where):\n",
    "        print(f'{self.fullName}이 {where}로 여행을 가다')\n",
    "    \n",
    "    def __add__(self, other):\n",
    "        print(f'{self.fullName}, {other.fullName} 결혼했네')\n",
    "        \n",
    "    def __sub__(self, other):\n",
    "        print(f'{self.fullName}, {other.fullName} 헤어졌네')\n",
    "\n",
    "class HouseKim(HousePark):\n",
    "    lastName = '김'\n",
    "    # 재정의 : overriding\n",
    "    def travel(self, where):\n",
    "        print(f'{self.fullName}은 {where}로 여행을 갔다')\n",
    "pey = HousePark('응용')\n",
    "juliet = HouseKim('줄리엣')\n",
    "\n",
    "print(juliet + pey)\n",
    "print(pey - juliet)\n"
   ]
  }
 ],
 "metadata": {
  "kernelspec": {
   "display_name": "test",
   "language": "python",
   "name": "python3"
  },
  "language_info": {
   "codemirror_mode": {
    "name": "ipython",
    "version": 3
   },
   "file_extension": ".py",
   "mimetype": "text/x-python",
   "name": "python",
   "nbconvert_exporter": "python",
   "pygments_lexer": "ipython3",
   "version": "3.9.18"
  }
 },
 "nbformat": 4,
 "nbformat_minor": 2
}

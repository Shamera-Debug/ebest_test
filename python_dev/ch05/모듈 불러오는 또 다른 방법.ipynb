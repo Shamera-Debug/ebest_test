{
 "cells": [
  {
   "cell_type": "code",
   "execution_count": 1,
   "metadata": {},
   "outputs": [],
   "source": [
    "# 모듈 위치 확인\n",
    "import sys"
   ]
  },
  {
   "cell_type": "code",
   "execution_count": 2,
   "metadata": {},
   "outputs": [
    {
     "data": {
      "text/plain": [
       "['c:\\\\education\\\\bigdata-project\\\\python_dev\\\\ch05',\n",
       " 'c:\\\\ProgramData\\\\anaconda3\\\\envs\\\\test\\\\python39.zip',\n",
       " 'c:\\\\ProgramData\\\\anaconda3\\\\envs\\\\test\\\\DLLs',\n",
       " 'c:\\\\ProgramData\\\\anaconda3\\\\envs\\\\test\\\\lib',\n",
       " 'c:\\\\ProgramData\\\\anaconda3\\\\envs\\\\test',\n",
       " '',\n",
       " 'C:\\\\Users\\\\ehapp\\\\AppData\\\\Roaming\\\\Python\\\\Python39\\\\site-packages',\n",
       " 'c:\\\\ProgramData\\\\anaconda3\\\\envs\\\\test\\\\lib\\\\site-packages',\n",
       " 'c:\\\\ProgramData\\\\anaconda3\\\\envs\\\\test\\\\lib\\\\site-packages\\\\win32',\n",
       " 'c:\\\\ProgramData\\\\anaconda3\\\\envs\\\\test\\\\lib\\\\site-packages\\\\win32\\\\lib',\n",
       " 'c:\\\\ProgramData\\\\anaconda3\\\\envs\\\\test\\\\lib\\\\site-packages\\\\Pythonwin']"
      ]
     },
     "execution_count": 2,
     "metadata": {},
     "output_type": "execute_result"
    }
   ],
   "source": [
    "sys.path # 모듈 등록 경로 저장 리스트"
   ]
  }
 ],
 "metadata": {
  "kernelspec": {
   "display_name": "test",
   "language": "python",
   "name": "python3"
  },
  "language_info": {
   "codemirror_mode": {
    "name": "ipython",
    "version": 3
   },
   "file_extension": ".py",
   "mimetype": "text/x-python",
   "name": "python",
   "nbconvert_exporter": "python",
   "pygments_lexer": "ipython3",
   "version": "3.9.18"
  }
 },
 "nbformat": 4,
 "nbformat_minor": 2
}

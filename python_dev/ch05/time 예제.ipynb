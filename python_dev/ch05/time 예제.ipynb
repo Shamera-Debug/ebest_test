{
 "cells": [
  {
   "cell_type": "code",
   "execution_count": 1,
   "metadata": {},
   "outputs": [],
   "source": [
    "import time"
   ]
  },
  {
   "cell_type": "code",
   "execution_count": 2,
   "metadata": {},
   "outputs": [
    {
     "data": {
      "text/plain": [
       "1701051682.252409"
      ]
     },
     "execution_count": 2,
     "metadata": {},
     "output_type": "execute_result"
    }
   ],
   "source": [
    "time.time() # 년 월 일 시 분 초 구분 "
   ]
  },
  {
   "cell_type": "code",
   "execution_count": 5,
   "metadata": {},
   "outputs": [
    {
     "data": {
      "text/plain": [
       "time.struct_time(tm_year=2023, tm_mon=11, tm_mday=27, tm_hour=11, tm_min=25, tm_sec=32, tm_wday=0, tm_yday=331, tm_isdst=0)"
      ]
     },
     "execution_count": 5,
     "metadata": {},
     "output_type": "execute_result"
    }
   ],
   "source": [
    "time.localtime() # 변환만 한다"
   ]
  },
  {
   "cell_type": "code",
   "execution_count": 8,
   "metadata": {},
   "outputs": [
    {
     "data": {
      "text/plain": [
       "'Mon Nov 27 11:29:00 2023'"
      ]
     },
     "execution_count": 8,
     "metadata": {},
     "output_type": "execute_result"
    }
   ],
   "source": [
    "# time.asctime(time.localtime(time.time()))\n",
    "time.ctime() # 위와 동일 사용안함"
   ]
  },
  {
   "cell_type": "code",
   "execution_count": 10,
   "metadata": {},
   "outputs": [
    {
     "data": {
      "text/plain": [
       "'Mon Nov 27 11:35:12 2023'"
      ]
     },
     "execution_count": 10,
     "metadata": {},
     "output_type": "execute_result"
    }
   ],
   "source": [
    "# time.strftime('format', time) : 시간을 포맷 맞게 문자열 출력\n",
    "time.strftime('%x', time.localtime()) # 월/일/년도\n",
    "time.strftime('%c', time.localtime()) # 월/일/년도\n"
   ]
  },
  {
   "cell_type": "code",
   "execution_count": 12,
   "metadata": {},
   "outputs": [
    {
     "name": "stdout",
     "output_type": "stream",
     "text": [
      "0\n",
      "1\n",
      "2\n",
      "3\n",
      "4\n",
      "5\n",
      "6\n",
      "7\n",
      "8\n",
      "9\n"
     ]
    }
   ],
   "source": [
    "for i in range(10): #0~9까지 10번 반복\n",
    "    print(i)\n",
    "    time.sleep(1)\n",
    "    "
   ]
  },
  {
   "cell_type": "code",
   "execution_count": 20,
   "metadata": {},
   "outputs": [
    {
     "name": "stdout",
     "output_type": "stream",
     "text": [
      "43, 5, 20, 3, 45, 11, "
     ]
    }
   ],
   "source": [
    "# 로또 번호 추출\n",
    "import random\n",
    "data_list = list(range(1,46))\n",
    "\n",
    "def lotto_pop(data_list):\n",
    "    idx = random.randint(0, len(data_list)-1)\n",
    "    return data_list.pop(idx)\n",
    "\n",
    "for i in range(0,6): # 6번 반복\n",
    "    print(lotto_pop(data_list), end=', ')"
   ]
  },
  {
   "cell_type": "code",
   "execution_count": 21,
   "metadata": {},
   "outputs": [
    {
     "data": {
      "text/plain": [
       "[4, 35, 17, 8, 30, 33]"
      ]
     },
     "execution_count": 21,
     "metadata": {},
     "output_type": "execute_result"
    }
   ],
   "source": [
    "random.sample(data_list, k=6) # 비복원 추출"
   ]
  },
  {
   "cell_type": "code",
   "execution_count": 23,
   "metadata": {},
   "outputs": [
    {
     "data": {
      "text/plain": [
       "[18, 10, 41, 27, 32, 32]"
      ]
     },
     "execution_count": 23,
     "metadata": {},
     "output_type": "execute_result"
    }
   ],
   "source": [
    "random.choices(data_list, k=6) # 복원 추출"
   ]
  },
  {
   "cell_type": "code",
   "execution_count": 24,
   "metadata": {},
   "outputs": [
    {
     "data": {
      "text/plain": [
       "3"
      ]
     },
     "execution_count": 24,
     "metadata": {},
     "output_type": "execute_result"
    }
   ],
   "source": [
    "random.randrange(3,10,3)"
   ]
  },
  {
   "cell_type": "code",
   "execution_count": 42,
   "metadata": {},
   "outputs": [
    {
     "data": {
      "text/plain": [
       "0.6394267984578837"
      ]
     },
     "execution_count": 42,
     "metadata": {},
     "output_type": "execute_result"
    }
   ],
   "source": [
    "random.seed(42)\n",
    "random.random()"
   ]
  },
  {
   "cell_type": "code",
   "execution_count": 46,
   "metadata": {},
   "outputs": [
    {
     "data": {
      "text/plain": [
       "[27,\n",
       " 42,\n",
       " 1,\n",
       " 39,\n",
       " 20,\n",
       " 22,\n",
       " 2,\n",
       " 6,\n",
       " 32,\n",
       " 41,\n",
       " 10,\n",
       " 17,\n",
       " 14,\n",
       " 40,\n",
       " 12,\n",
       " 8,\n",
       " 28,\n",
       " 31,\n",
       " 5,\n",
       " 45,\n",
       " 24,\n",
       " 13,\n",
       " 44,\n",
       " 33,\n",
       " 29,\n",
       " 43,\n",
       " 23,\n",
       " 19,\n",
       " 7,\n",
       " 34,\n",
       " 9,\n",
       " 26,\n",
       " 37,\n",
       " 3,\n",
       " 38,\n",
       " 4,\n",
       " 21,\n",
       " 15,\n",
       " 36,\n",
       " 18,\n",
       " 25,\n",
       " 30,\n",
       " 11,\n",
       " 16,\n",
       " 35]"
      ]
     },
     "execution_count": 46,
     "metadata": {},
     "output_type": "execute_result"
    }
   ],
   "source": [
    "data_list = list(range(1,46))\n",
    "random.shuffle(data_list) \n",
    "data_list"
   ]
  },
  {
   "cell_type": "code",
   "execution_count": 47,
   "metadata": {},
   "outputs": [],
   "source": [
    "import threading\n",
    "import time"
   ]
  },
  {
   "cell_type": "code",
   "execution_count": 48,
   "metadata": {},
   "outputs": [],
   "source": [
    "# 스레드로 작동될 함수 선언\n",
    "def say(msg):\n",
    "    while True:\n",
    "        time.sleep(1)\n",
    "        print(msg)"
   ]
  },
  {
   "cell_type": "code",
   "execution_count": 49,
   "metadata": {},
   "outputs": [
    {
     "name": "stdout",
     "output_type": "stream",
     "text": [
      "0\n",
      "1\n",
      "2\n",
      "3\n",
      "4\n",
      "5\n",
      "6\n",
      "7\n",
      "8\n",
      "python\n",
      "need\n",
      "you\n",
      "9\n",
      "10\n",
      "11\n",
      "12\n",
      "13\n",
      "14\n",
      "15\n",
      "16\n",
      "17\n",
      "you\n",
      "python\n",
      "need\n",
      "18\n",
      "19\n",
      "20\n",
      "21\n",
      "22\n",
      "23\n",
      "24\n",
      "25\n",
      "26\n",
      "need\n",
      "python\n",
      "you\n",
      "27\n",
      "28\n",
      "29\n",
      "30\n",
      "31\n",
      "32\n",
      "33\n",
      "34\n",
      "35\n",
      "need\n",
      "python\n",
      "you\n",
      "36\n",
      "37\n",
      "38\n",
      "39\n",
      "40\n",
      "41\n",
      "42\n",
      "43\n",
      "44\n",
      "python\n",
      "you\n",
      "need\n",
      "45\n",
      "46\n",
      "47\n",
      "48\n",
      "49\n",
      "50\n",
      "51\n",
      "52\n",
      "53\n",
      "python\n",
      "you\n",
      "need\n",
      "54\n",
      "55\n",
      "56\n",
      "57\n",
      "58\n",
      "59\n",
      "60\n",
      "61\n",
      "62\n",
      "63\n",
      "you\n",
      "need\n",
      "python\n",
      "64\n",
      "65\n",
      "66\n",
      "67\n",
      "68\n",
      "69\n",
      "70\n",
      "71\n",
      "72\n",
      "need\n",
      "you\n",
      "python\n",
      "73\n",
      "74\n",
      "75\n",
      "76\n",
      "77\n",
      "78\n",
      "79\n",
      "80\n",
      "81\n",
      "python\n",
      "need\n",
      "you\n",
      "82\n",
      "83\n",
      "84\n",
      "85\n",
      "86\n",
      "87\n",
      "88\n",
      "89\n",
      "90\n",
      "need\n",
      "you\n",
      "python\n",
      "91\n",
      "92\n",
      "93\n",
      "94\n",
      "95\n",
      "96\n",
      "97\n",
      "98\n",
      "99\n"
     ]
    },
    {
     "name": "stdout",
     "output_type": "stream",
     "text": [
      "youneed\n",
      "python\n",
      "\n",
      "youpython\n",
      "need\n",
      "\n",
      "youpython\n",
      "need\n",
      "\n",
      "need\n",
      "you\n",
      "python\n",
      "pythonneed\n",
      "\n",
      "you\n",
      "youneed\n",
      "\n",
      "python\n",
      "pythonneed\n",
      "you\n",
      "\n",
      "python\n",
      "you\n",
      "need\n",
      "needpython\n",
      "\n",
      "you\n",
      "needpython\n",
      "\n",
      "you\n",
      "python\n",
      "need\n",
      "you\n",
      "youpython\n",
      "\n",
      "need\n",
      "pythonneed\n",
      "you\n",
      "\n",
      "need\n",
      "you\n",
      "python\n",
      "python\n",
      "need\n",
      "you\n",
      "needpython\n",
      "\n",
      "you\n",
      "python\n",
      "you\n",
      "need\n",
      "youneed\n",
      "python\n",
      "\n",
      "pythonneed\n",
      "\n",
      "you\n",
      "you\n",
      "python\n",
      "need\n",
      "needpython\n",
      "you\n",
      "\n",
      "need\n",
      "python\n",
      "you\n",
      "need\n",
      "you\n",
      "python\n",
      "pythonyou\n",
      "need\n",
      "\n",
      "pythonneed\n",
      "\n",
      "you\n",
      "youpython\n",
      "need\n",
      "\n",
      "needyou\n",
      "python\n",
      "\n",
      "needpython\n",
      "\n",
      "you\n",
      "pythonyou\n",
      "\n",
      "need\n",
      "needpython\n",
      "\n",
      "you\n",
      "youpython\n",
      "\n",
      "need\n",
      "python\n",
      "need\n",
      "you\n",
      "youneed\n",
      "python\n",
      "\n",
      "youneed\n",
      "\n",
      "python\n",
      "python\n",
      "you\n",
      "need\n",
      "pythonyou\n",
      "need\n",
      "\n",
      "python\n",
      "need\n",
      "you\n",
      "pythonneed\n",
      "\n",
      "you\n",
      "youneed\n",
      "\n",
      "python\n",
      "needyou\n",
      "\n",
      "python\n",
      "pythonyou\n",
      "need\n",
      "\n",
      "pythonyou\n",
      "\n",
      "need\n",
      "need\n",
      "python\n",
      "you\n",
      "youneed\n",
      "\n",
      "python\n",
      "you\n",
      "need\n",
      "python\n",
      "need\n",
      "python\n",
      "you\n",
      "pythonneed\n",
      "\n",
      "you\n",
      "youpython\n",
      "\n",
      "need\n",
      "youpython\n",
      "\n",
      "need\n",
      "need\n",
      "python\n",
      "you\n",
      "pythonneed\n",
      "\n",
      "you\n",
      "needyou\n",
      "python\n",
      "\n",
      "youneed\n",
      "python\n",
      "\n",
      "python\n",
      "you\n",
      "need\n",
      "youneed\n",
      "python\n",
      "\n",
      "you\n",
      "need\n",
      "python\n",
      "pythonyou\n",
      "need\n",
      "\n",
      "pythonyou\n",
      "\n",
      "need\n",
      "python\n",
      "you\n",
      "need\n",
      "pythonneed\n",
      "you\n",
      "\n",
      "python\n",
      "need\n",
      "you\n",
      "needyou\n",
      "\n",
      "python\n",
      "python\n",
      "need\n",
      "you\n",
      "needyou\n",
      "python\n",
      "\n",
      "needyou\n",
      "python\n",
      "\n",
      "pythonyou\n",
      "\n",
      "need\n",
      "needpython\n",
      "\n",
      "you\n",
      "you\n",
      "python\n",
      "need\n",
      "need\n",
      "python\n",
      "you\n",
      "youpython\n",
      "\n",
      "need\n",
      "needyou\n",
      "\n",
      "python\n",
      "needyou\n",
      "python\n",
      "\n"
     ]
    }
   ],
   "source": [
    "for msg in ['you','need','python']:\n",
    "    t = threading.Thread(target=say, args=(msg,))\n",
    "    t.daemon = True\n",
    "    t.start()\n",
    "\n",
    "for i in range(100):\n",
    "    time.sleep(0.1)\n",
    "    print(i)"
   ]
  }
 ],
 "metadata": {
  "kernelspec": {
   "display_name": "test",
   "language": "python",
   "name": "python3"
  },
  "language_info": {
   "codemirror_mode": {
    "name": "ipython",
    "version": 3
   },
   "file_extension": ".py",
   "mimetype": "text/x-python",
   "name": "python",
   "nbconvert_exporter": "python",
   "pygments_lexer": "ipython3",
   "version": "3.9.18"
  }
 },
 "nbformat": 4,
 "nbformat_minor": 2
}

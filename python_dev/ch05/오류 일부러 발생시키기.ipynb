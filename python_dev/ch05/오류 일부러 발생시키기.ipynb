{
 "cells": [
  {
   "cell_type": "code",
   "execution_count": 16,
   "metadata": {},
   "outputs": [],
   "source": [
    "class Bird:\n",
    "    def fly(self):\n",
    "        raise NotImplemented"
   ]
  },
  {
   "cell_type": "code",
   "execution_count": 17,
   "metadata": {},
   "outputs": [],
   "source": [
    "class Eagle(Bird): # Bird 상속\n",
    "    def fly(self):\n",
    "        print('겁나게 빨리 난다')"
   ]
  },
  {
   "cell_type": "code",
   "execution_count": 18,
   "metadata": {},
   "outputs": [],
   "source": [
    "class Chiken(Bird):\n",
    "    def fly(self):\n",
    "        print('나도 날수 있나?')"
   ]
  },
  {
   "cell_type": "code",
   "execution_count": 21,
   "metadata": {},
   "outputs": [],
   "source": [
    "class Penguin(Bird):\n",
    "    def fly(self):\n",
    "        print('난 못 난다')"
   ]
  },
  {
   "cell_type": "code",
   "execution_count": 22,
   "metadata": {},
   "outputs": [
    {
     "name": "stdout",
     "output_type": "stream",
     "text": [
      "겁나게 빨리 난다\n",
      "나도 날수 있나?\n",
      "난 못 난다\n"
     ]
    }
   ],
   "source": [
    "eagel = Eagle()\n",
    "chiken = Chiken()\n",
    "penguin = Penguin()\n",
    "eagel.fly()\n",
    "chiken.fly()\n",
    "penguin.fly()"
   ]
  },
  {
   "cell_type": "code",
   "execution_count": 23,
   "metadata": {},
   "outputs": [],
   "source": [
    "# 나만의 오류클래스 만들기\n",
    "class MyError(Exception):\n",
    "    pass"
   ]
  },
  {
   "cell_type": "code",
   "execution_count": 24,
   "metadata": {},
   "outputs": [],
   "source": [
    "def say_nick(nick):\n",
    "    if nick =='바보':\n",
    "        raise MyError\n",
    "    print(nick)"
   ]
  },
  {
   "cell_type": "code",
   "execution_count": 27,
   "metadata": {},
   "outputs": [
    {
     "name": "stdout",
     "output_type": "stream",
     "text": [
      "화내지마\n"
     ]
    }
   ],
   "source": [
    "try:\n",
    "    say_nick('바보')\n",
    "except MyError:\n",
    "    print('화내지마')"
   ]
  },
  {
   "cell_type": "code",
   "execution_count": 31,
   "metadata": {},
   "outputs": [],
   "source": [
    "class KrxDataError(Exception):\n",
    "    def __init__(self, msg) -> None: # 생성할때 메세지 지정할 수 있게 한다.\n",
    "        self.msg = msg\n",
    "    # 상세 에러 출력\n",
    "    def __str__(self) -> str: # toString() 동일 기능\n",
    "        return self.msg\n",
    "    "
   ]
  },
  {
   "cell_type": "code",
   "execution_count": 32,
   "metadata": {},
   "outputs": [],
   "source": [
    "def getKrxData(code): # 한국거래소 데이터 수집 함수\n",
    "    if code == '000000': # code 종목 코드\n",
    "        raise KrxDataError('한국거래소 종목코드 에러')\n",
    "    else:\n",
    "        print('종목코드 : ',code)"
   ]
  },
  {
   "cell_type": "code",
   "execution_count": 33,
   "metadata": {},
   "outputs": [
    {
     "ename": "KrxDataError",
     "evalue": "한국거래소 종목코드 에러",
     "output_type": "error",
     "traceback": [
      "\u001b[1;31m---------------------------------------------------------------------------\u001b[0m",
      "\u001b[1;31mKrxDataError\u001b[0m                              Traceback (most recent call last)",
      "\u001b[1;32mc:\\education\\bigdata-project\\python_dev\\ch05\\오류 일부러 발생시키기.ipynb 셀 11\u001b[0m line \u001b[0;36m1\n\u001b[1;32m----> <a href='vscode-notebook-cell:/c%3A/education/bigdata-project/python_dev/ch05/%EC%98%A4%EB%A5%98%20%EC%9D%BC%EB%B6%80%EB%9F%AC%20%EB%B0%9C%EC%83%9D%EC%8B%9C%ED%82%A4%EA%B8%B0.ipynb#X13sZmlsZQ%3D%3D?line=0'>1</a>\u001b[0m getKrxData(\u001b[39m'\u001b[39;49m\u001b[39m000000\u001b[39;49m\u001b[39m'\u001b[39;49m)\n",
      "\u001b[1;32mc:\\education\\bigdata-project\\python_dev\\ch05\\오류 일부러 발생시키기.ipynb 셀 11\u001b[0m line \u001b[0;36m3\n\u001b[0;32m      <a href='vscode-notebook-cell:/c%3A/education/bigdata-project/python_dev/ch05/%EC%98%A4%EB%A5%98%20%EC%9D%BC%EB%B6%80%EB%9F%AC%20%EB%B0%9C%EC%83%9D%EC%8B%9C%ED%82%A4%EA%B8%B0.ipynb#X13sZmlsZQ%3D%3D?line=0'>1</a>\u001b[0m \u001b[39mdef\u001b[39;00m \u001b[39mgetKrxData\u001b[39m(code): \u001b[39m# 한국거래소 데이터 수집 함수\u001b[39;00m\n\u001b[0;32m      <a href='vscode-notebook-cell:/c%3A/education/bigdata-project/python_dev/ch05/%EC%98%A4%EB%A5%98%20%EC%9D%BC%EB%B6%80%EB%9F%AC%20%EB%B0%9C%EC%83%9D%EC%8B%9C%ED%82%A4%EA%B8%B0.ipynb#X13sZmlsZQ%3D%3D?line=1'>2</a>\u001b[0m     \u001b[39mif\u001b[39;00m code \u001b[39m==\u001b[39m \u001b[39m'\u001b[39m\u001b[39m000000\u001b[39m\u001b[39m'\u001b[39m: \u001b[39m# code 종목 코드\u001b[39;00m\n\u001b[1;32m----> <a href='vscode-notebook-cell:/c%3A/education/bigdata-project/python_dev/ch05/%EC%98%A4%EB%A5%98%20%EC%9D%BC%EB%B6%80%EB%9F%AC%20%EB%B0%9C%EC%83%9D%EC%8B%9C%ED%82%A4%EA%B8%B0.ipynb#X13sZmlsZQ%3D%3D?line=2'>3</a>\u001b[0m         \u001b[39mraise\u001b[39;00m KrxDataError(\u001b[39m'\u001b[39m\u001b[39m한국거래소 종목코드 에러\u001b[39m\u001b[39m'\u001b[39m)\n\u001b[0;32m      <a href='vscode-notebook-cell:/c%3A/education/bigdata-project/python_dev/ch05/%EC%98%A4%EB%A5%98%20%EC%9D%BC%EB%B6%80%EB%9F%AC%20%EB%B0%9C%EC%83%9D%EC%8B%9C%ED%82%A4%EA%B8%B0.ipynb#X13sZmlsZQ%3D%3D?line=3'>4</a>\u001b[0m     \u001b[39melse\u001b[39;00m:\n\u001b[0;32m      <a href='vscode-notebook-cell:/c%3A/education/bigdata-project/python_dev/ch05/%EC%98%A4%EB%A5%98%20%EC%9D%BC%EB%B6%80%EB%9F%AC%20%EB%B0%9C%EC%83%9D%EC%8B%9C%ED%82%A4%EA%B8%B0.ipynb#X13sZmlsZQ%3D%3D?line=4'>5</a>\u001b[0m         \u001b[39mprint\u001b[39m(\u001b[39m'\u001b[39m\u001b[39m종목코드 : \u001b[39m\u001b[39m'\u001b[39m,code)\n",
      "\u001b[1;31mKrxDataError\u001b[0m: 한국거래소 종목코드 에러"
     ]
    }
   ],
   "source": [
    "getKrxData('000000')"
   ]
  },
  {
   "cell_type": "code",
   "execution_count": null,
   "metadata": {},
   "outputs": [],
   "source": []
  }
 ],
 "metadata": {
  "kernelspec": {
   "display_name": "test",
   "language": "python",
   "name": "python3"
  },
  "language_info": {
   "codemirror_mode": {
    "name": "ipython",
    "version": 3
   },
   "file_extension": ".py",
   "mimetype": "text/x-python",
   "name": "python",
   "nbconvert_exporter": "python",
   "pygments_lexer": "ipython3",
   "version": "3.9.18"
  }
 },
 "nbformat": 4,
 "nbformat_minor": 2
}
